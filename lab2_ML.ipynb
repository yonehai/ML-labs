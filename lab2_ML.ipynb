{
  "nbformat": 4,
  "nbformat_minor": 0,
  "metadata": {
    "colab": {
      "name": "lab2_ML.ipynb",
      "provenance": [],
      "collapsed_sections": [],
      "authorship_tag": "ABX9TyP3pojzj9gJvADMfXXjgafF",
      "include_colab_link": true
    },
    "kernelspec": {
      "name": "python3",
      "display_name": "Python 3"
    },
    "language_info": {
      "name": "python"
    }
  },
  "cells": [
    {
      "cell_type": "markdown",
      "metadata": {
        "id": "view-in-github",
        "colab_type": "text"
      },
      "source": [
        "<a href=\"https://colab.research.google.com/github/yonehai/ML-labs/blob/main/lab2_ML.ipynb\" target=\"_parent\"><img src=\"https://colab.research.google.com/assets/colab-badge.svg\" alt=\"Open In Colab\"/></a>"
      ]
    },
    {
      "cell_type": "code",
      "metadata": {
        "id": "7QyvJDHvaFF6"
      },
      "source": [
        "import numpy as np\n",
        "import unittest"
      ],
      "execution_count": 19,
      "outputs": []
    },
    {
      "cell_type": "code",
      "metadata": {
        "id": "xiYndURw55WP"
      },
      "source": [
        "def create_matrix(rows, columns):\n",
        "  t = []\n",
        "  m = []\n",
        "  for i in range(0, rows):\n",
        "    for j in range(0, columns):\n",
        "      t.append(np.random.random())\n",
        "    m.append(t)\n",
        "    t = []\n",
        "  return m"
      ],
      "execution_count": 20,
      "outputs": []
    },
    {
      "cell_type": "code",
      "metadata": {
        "id": "OGocee6U58GQ"
      },
      "source": [
        "def matrix_multiply (matrix1, matrix2):\n",
        "  sum = 0\n",
        "  temp = []\n",
        "  final_matrix = []\n",
        "  if len(matrix2) != len(matrix1[0]):\n",
        "    raise ValueError(\"Matrix cannot be multiplied\")\n",
        "  else:\n",
        "    for z in range (0, len(matrix1)):\n",
        "      for j in range(0, len(matrix2[0])):\n",
        "        for i in range(0, len(matrix1[0])): \n",
        "          sum = sum + matrix1[z][i] * matrix2[i][j]\n",
        "        temp.append(sum)\n",
        "        sum = 0\n",
        "      final_matrix.append(temp) \n",
        "      temp = []\n",
        "    return final_matrix"
      ],
      "execution_count": 3,
      "outputs": []
    },
    {
      "cell_type": "code",
      "metadata": {
        "colab": {
          "base_uri": "https://localhost:8080/"
        },
        "id": "itIHyuKz6DYD",
        "outputId": "16d5d2b8-7778-4d0f-c4ab-9e2aa36a3e24"
      },
      "source": [
        "print(\"Multiply two matrix\")\n",
        "matrix1 = create_matrix(10, 9)\n",
        "matrix2= create_matrix(9, 5)\n",
        "res = matrix_multiply(matrix1, matrix2)\n",
        "print(res)\n",
        "\n",
        "print(\"Multiply vector and matrix\")\n",
        "matrix1 = create_matrix(5, 3)\n",
        "matrix2 = create_matrix(3, 1)\n",
        "res = matrix_multiply(matrix1, matrix2)\n",
        "print(res)\n",
        "\n",
        "print(\"Multiply matrix and vector\")\n",
        "matrix1 = create_matrix(4, 1) \n",
        "matrix2 = create_matrix (1, 10)\n",
        "res = matrix_multiply(matrix1, matrix2)\n",
        "print(res)"
      ],
      "execution_count": 6,
      "outputs": [
        {
          "output_type": "stream",
          "name": "stdout",
          "text": [
            "Multiply two matrix\n",
            "[[3.656493171456177, 1.8697910494232923, 3.6612687792841765, 3.4816015817853616, 2.2906097197554436], [2.5495883478746455, 1.1480556330394434, 2.734150097183259, 2.1397236429846043, 2.0929195553693054], [3.9232384698952427, 1.7503206101984403, 3.8927834554455147, 3.636467635956988, 2.760966769994202], [2.6735801082917905, 1.5812902721058752, 2.8819764076575236, 2.232933226405343, 1.7852362689020265], [3.605376384429203, 1.6897486514574136, 3.4526493538416525, 3.3395586815092098, 2.806029318889021], [3.172035097837975, 1.715595954781621, 3.161145969324352, 2.94811662029654, 2.377335583452983], [3.263584556399455, 1.4614170604977745, 3.0952121040037577, 3.585582365495174, 2.533917904883921], [2.274479261198599, 1.1678756293709802, 2.3679143112294314, 2.5066796074843802, 1.7578040983868657], [2.712410691234167, 1.4754151194258782, 3.117394824339269, 2.0671501558563277, 1.7005400538610136], [3.024973336654127, 1.365190758456773, 2.8392986740357715, 3.159816118671341, 2.2526016658527364]]\n",
            "Multiply vector and matrix\n",
            "[[0.6704734014239264], [1.0198277165112306], [0.6143363224398084], [0.962107090973875], [0.9487454285803004]]\n",
            "Multiply matrix and vector\n",
            "[[0.0005525580009634136, 0.00034389370129259296, 2.7165695152433424e-05, 0.00011452799991671275, 0.0004610946807712285, 0.00017908948008530536, 0.0004888069061954834, 5.580009772950001e-05, 0.0004266837311276555, 0.00010672717750131178], [0.8727096645947187, 0.5431454366564622, 0.04290547718723976, 0.18088543142937186, 0.7282525698671619, 0.28285378154905766, 0.7720212365284127, 0.08813062970576524, 0.6739039435338754, 0.16856481874828194], [0.38387196050899747, 0.2389091264477483, 0.018872495988787364, 0.07956465707590724, 0.3203307503996156, 0.12441667609014531, 0.3395829307772922, 0.03876532938563876, 0.29642484607894076, 0.07414528573577388], [0.21804276390470215, 0.13570255609097565, 0.01071974931880744, 0.04519344865657101, 0.18195077881746555, 0.07066980327127985, 0.19288619232142237, 0.022019059562759413, 0.16837200780014572, 0.04211519646002666]]\n"
          ]
        }
      ]
    },
    {
      "cell_type": "code",
      "metadata": {
        "colab": {
          "base_uri": "https://localhost:8080/"
        },
        "id": "-hW-4MnI6MrD",
        "outputId": "f02afdb7-9e51-4708-a298-3abb45ddf962"
      },
      "source": [
        "print(\"Multiply two matrix using numpy library\")\n",
        "A = create_matrix(3, 4)\n",
        "B = create_matrix(4, 6)\n",
        "print(np.dot(A, B))\n",
        "\n",
        "print(\"Multiply vector and matrix\")\n",
        "A = create_matrix(6, 7) \n",
        "B = create_matrix(7, 1)\n",
        "print(np.dot(A, B))\n",
        "\n",
        "print(\"Multiply matrix and vector\") \n",
        "A = create_matrix(4, 1) \n",
        "B = create_matrix(1, 9)\n",
        "print(np.dot(A, B))"
      ],
      "execution_count": 11,
      "outputs": [
        {
          "output_type": "stream",
          "name": "stdout",
          "text": [
            "Multiply two matrix using numpy library\n",
            "[[0.60286449 0.53184624 0.93801494 0.43607656 1.17701338 0.47613408]\n",
            " [0.63147587 0.74600468 0.94819334 0.94864288 1.1840004  1.04387139]\n",
            " [0.9033476  0.60293893 1.14707041 0.86707038 1.34140868 1.38960874]]\n",
            "Multiply vector and matrix\n",
            "[[2.54434101]\n",
            " [2.66398421]\n",
            " [2.80093065]\n",
            " [1.54997528]\n",
            " [1.89648273]\n",
            " [2.23195303]]\n",
            "Multiply matrix and vector\n",
            "[[0.35763522 0.33037863 0.18808672 0.16827706 0.15636611 0.08897909\n",
            "  0.34771321 0.24171487 0.32988155]\n",
            " [0.65850311 0.60831635 0.34631849 0.30984356 0.28791226 0.16383455\n",
            "  0.640234   0.4450624  0.6074011 ]\n",
            " [0.32627233 0.30140601 0.17159242 0.15351997 0.14265355 0.08117605\n",
            "  0.31722043 0.22051763 0.30095252]\n",
            " [0.9050676  0.83608933 0.47599115 0.42585883 0.39571577 0.22517941\n",
            "  0.87995796 0.61170791 0.83483138]]\n"
          ]
        }
      ]
    }
  ]
}